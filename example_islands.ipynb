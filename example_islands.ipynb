{
 "cells": [
  {
   "cell_type": "markdown",
   "metadata": {},
   "source": [
    "# pycoalescence islands example simulation\n",
    "\n",
    "The scenario outlined here simulates four islands (A-D) totalling 100000 individuals. The islands contain 50000, 25000, 5000 and 20000 individuals respectively. The dispersal probabilities are given in *dispersal_probabilities.csv* and are shown in the data frame below.\n",
    "\n",
    "Note that the code refers to this scenario as patches on a patched landscape, instead of islands in an archipelago, as patches is more general."
   ]
  },
  {
   "cell_type": "code",
   "execution_count": 1,
   "metadata": {},
   "outputs": [
    {
     "data": {
      "text/html": [
       "<div>\n",
       "<style scoped>\n",
       "    .dataframe tbody tr th:only-of-type {\n",
       "        vertical-align: middle;\n",
       "    }\n",
       "\n",
       "    .dataframe tbody tr th {\n",
       "        vertical-align: top;\n",
       "    }\n",
       "\n",
       "    .dataframe thead th {\n",
       "        text-align: right;\n",
       "    }\n",
       "</style>\n",
       "<table border=\"1\" class=\"dataframe\">\n",
       "  <thead>\n",
       "    <tr style=\"text-align: right;\">\n",
       "      <th></th>\n",
       "      <th>A</th>\n",
       "      <th>B</th>\n",
       "      <th>C</th>\n",
       "      <th>D</th>\n",
       "    </tr>\n",
       "  </thead>\n",
       "  <tbody>\n",
       "    <tr>\n",
       "      <th>A</th>\n",
       "      <td>0.50</td>\n",
       "      <td>0.25</td>\n",
       "      <td>0.15</td>\n",
       "      <td>0.10</td>\n",
       "    </tr>\n",
       "    <tr>\n",
       "      <th>B</th>\n",
       "      <td>0.30</td>\n",
       "      <td>0.65</td>\n",
       "      <td>0.01</td>\n",
       "      <td>0.04</td>\n",
       "    </tr>\n",
       "    <tr>\n",
       "      <th>C</th>\n",
       "      <td>0.05</td>\n",
       "      <td>0.01</td>\n",
       "      <td>0.85</td>\n",
       "      <td>0.09</td>\n",
       "    </tr>\n",
       "    <tr>\n",
       "      <th>D</th>\n",
       "      <td>0.10</td>\n",
       "      <td>0.25</td>\n",
       "      <td>0.30</td>\n",
       "      <td>0.40</td>\n",
       "    </tr>\n",
       "  </tbody>\n",
       "</table>\n",
       "</div>"
      ],
      "text/plain": [
       "<div>\n",
       "<style scoped>\n",
       "    .dataframe tbody tr th:only-of-type {\n",
       "        vertical-align: middle;\n",
       "    }\n",
       "\n",
       "    .dataframe tbody tr th {\n",
       "        vertical-align: top;\n",
       "    }\n",
       "\n",
       "    .dataframe thead th {\n",
       "        text-align: right;\n",
       "    }\n",
       "</style>\n",
       "<table border=\"1\" class=\"dataframe\">\n",
       "  <thead>\n",
       "    <tr style=\"text-align: right;\">\n",
       "      <th></th>\n",
       "      <th>A</th>\n",
       "      <th>B</th>\n",
       "      <th>C</th>\n",
       "      <th>D</th>\n",
       "    </tr>\n",
       "  </thead>\n",
       "  <tbody>\n",
       "    <tr>\n",
       "      <th>A</th>\n",
       "      <td>0.50</td>\n",
       "      <td>0.25</td>\n",
       "      <td>0.15</td>\n",
       "      <td>0.10</td>\n",
       "    </tr>\n",
       "    <tr>\n",
       "      <th>B</th>\n",
       "      <td>0.30</td>\n",
       "      <td>0.65</td>\n",
       "      <td>0.01</td>\n",
       "      <td>0.04</td>\n",
       "    </tr>\n",
       "    <tr>\n",
       "      <th>C</th>\n",
       "      <td>0.05</td>\n",
       "      <td>0.01</td>\n",
       "      <td>0.85</td>\n",
       "      <td>0.09</td>\n",
       "    </tr>\n",
       "    <tr>\n",
       "      <th>D</th>\n",
       "      <td>0.10</td>\n",
       "      <td>0.25</td>\n",
       "      <td>0.30</td>\n",
       "      <td>0.40</td>\n",
       "    </tr>\n",
       "  </tbody>\n",
       "</table>\n",
       "</div>"
      ]
     },
     "execution_count": 1,
     "metadata": {},
     "output_type": "execute_result"
    }
   ],
   "source": [
    "import itertools\n",
    "import pandas as pd\n",
    "dispersal_probs = pd.read_csv(\"dispersal_probabilities.csv\", index_col=0)\n",
    "dispersal_probs"
   ]
  },
  {
   "cell_type": "markdown",
   "metadata": {},
   "source": [
    "## Generate the dispersal and density maps\n",
    "\n",
    "We can make use of the ``PatchedLandscape`` class to generate the dispersal and density maps. In this case, we already have dispersal probabilities as a matrix, so this is not necessary, but is shown to highlight how this process works."
   ]
  },
  {
   "cell_type": "code",
   "execution_count": 2,
   "metadata": {},
   "outputs": [],
   "source": [
    "import os\n",
    "from pycoalescence.patched_landscape import PatchedLandscape"
   ]
  },
  {
   "cell_type": "code",
   "execution_count": 3,
   "metadata": {},
   "outputs": [],
   "source": [
    "# Define our density and dispersals maps - these will be created below\n",
    "density_map = os.path.join(\"maps\", \"island_density.tif\")\n",
    "dispersal_map = os.path.join(\"maps\", \"dispersal_probabilities.tif\")"
   ]
  },
  {
   "cell_type": "markdown",
   "metadata": {},
   "source": [
    "Generate the patches landscape containing our patches (islands)"
   ]
  },
  {
   "cell_type": "code",
   "execution_count": 4,
   "metadata": {
    "collapsed": true
   },
   "outputs": [],
   "source": [
    "# Delete the outputs if they exist\n",
    "for each in [density_map, dispersal_map]:\n",
    "\tif os.path.exists(each):\n",
    "\t\tos.remove(each)\n",
    "island_landscape = PatchedLandscape(output_fine_map=density_map,\n",
    "\t\t\t\t\t\t\t\t\toutput_dispersal_map=dispersal_map)\n",
    "# Define the densities for each island\n",
    "densities = {\"A\" : 50000, \"B\" : 25000, \"C\" : 5000, \"D\" : 20000}\n",
    "# Generate a dictionary for each island for the dispersal probabilities to every other island, and itself\n",
    "# All the dictionaries are added as patches to the PatchedLandscape\n",
    "for src_id, row in dispersal_probs.iteritems():\n",
    "\tdst_probs = {}\n",
    "\tfor dst_id, prob in row.iteritems():\n",
    "\t\tdst_probs[dst_id] = prob\n",
    "\tisland_landscape.add_patch(id=src_id, density=densities[src_id], dispersal_probabilities=dst_probs)"
   ]
  },
  {
   "cell_type": "markdown",
   "metadata": {},
   "source": [
    "Write out out map files - note that the dispersal probability map is scaled to be a cumulative probability summing to 1 across rows. The density map will be a map containing a single row (islands A, B, C and D) as the spatial structure is not important."
   ]
  },
  {
   "cell_type": "code",
   "execution_count": 5,
   "metadata": {},
   "outputs": [],
   "source": [
    "# Generates maps/dispersal_probabilities.tif and maps/island_density.tif\n",
    "island_landscape.generate_files()"
   ]
  },
  {
   "cell_type": "code",
   "execution_count": 6,
   "metadata": {},
   "outputs": [],
   "source": [
    "fragment_csv = os.path.join(\"output\", \"fragments.csv\")\n",
    "# Delete the fragment csv if it exists\n",
    "if os.path.exists(fragment_csv):\n",
    "\tos.remove(fragment_csv)\n",
    "# Generate output/fragments.csv which contains information for each of our islands\n",
    "island_landscape.generate_fragment_csv(fragment_csv)"
   ]
  },
  {
   "cell_type": "markdown",
   "metadata": {},
   "source": [
    "### Display the dispersal map\n",
    "\n",
    "This is a map-of-maps, where dispersal is from each row index to each row index."
   ]
  },
  {
   "cell_type": "code",
   "execution_count": 7,
   "metadata": {},
   "outputs": [],
   "source": [
    "import matplotlib.pyplot as plt\n",
    "from pycoalescence import Map\n",
    "m = Map(dispersal_map)\n",
    "m.open()\n",
    "f = plt.figure()\n",
    "plt.imshow(m.data, cmap='magma', interpolation='nearest')\n",
    "plt.axis('off')\n",
    "plt.show()\n",
    "f.savefig(os.path.join(\"output\", \"dispersal_probs_fig.png\"), bbox_inches='tight')\n"
   ]
  },
  {
   "cell_type": "markdown",
   "metadata": {},
   "source": [
    "### Display the cumulative dispersal probability map\n",
    "This is the map-of-maps, as above, but with values are stored as a cumulative probability, summing to 1 across rows."
   ]
  },
  {
   "cell_type": "code",
   "execution_count": 8,
   "metadata": {},
   "outputs": [],
   "source": [
    "import numpy as np\n",
    "tmp = np.cumsum(m.data, axis=1)\n",
    "f = plt.figure()\n",
    "plt.imshow(tmp, cmap='magma', interpolation='nearest')\n",
    "plt.axis('off')\n",
    "plt.show()\n",
    "f.savefig(os.path.join(\"output\", \"cum_dispersal_probs_fig.png\"), bbox_inches='tight')\n"
   ]
  },
  {
   "cell_type": "markdown",
   "metadata": {},
   "source": [
    "## Perform the coalescence simulation\n",
    "\n",
    "The method of simulation is now identical to that shown in example_fragmented_landscape.ipynb, except that we provide a dispersal probability map instead of a dispersal method.\n",
    "\n",
    "Because the landscape structure here is restricted to the islands we provided, the simulation should take only a few seconds."
   ]
  },
  {
   "cell_type": "code",
   "execution_count": 9,
   "metadata": {
    "collapsed": true
   },
   "outputs": [
    {
     "name": "stderr",
     "output_type": "stream",
     "text": [
      "\rChecking folder existance...maps/island_density.tif exists!               \n"
     ]
    },
    {
     "name": "stderr",
     "output_type": "stream",
     "text": [
      "\rChecking folder existance...output exists!               \n"
     ]
    },
    {
     "name": "stderr",
     "output_type": "stream",
     "text": [
      "Checking folder existance...\rChecking folder existance...done.                                                                \n"
     ]
    },
    {
     "name": "stderr",
     "output_type": "stream",
     "text": [
      "Checking for unfinished simulations...done.\nNo files found containing unfinished simulations.\n"
     ]
    },
    {
     "name": "stderr",
     "output_type": "stream",
     "text": [
      "*************************************************\nSetting up simulation...\n"
     ]
    },
    {
     "name": "stderr",
     "output_type": "stream",
     "text": [
      "Dispersal (tau, sigma): 1, 1\nDispersal method: normal\nFine map\n-file: maps/island_density.tif\n-dimensions: (4, 1)\n-offset: (0, 0)\nCoarse map\n-file: none\n-dimensions: (4, 1)\n-offset: (0, 0)\n-scale: 1\nSample grid\n-dimensions: (4, 1)\n-optimised area: (4, 1)\n-optimised offsets: (0, 0)\n-deme: 1\n"
     ]
    },
    {
     "name": "stderr",
     "output_type": "stream",
     "text": [
      "Seed: 1\nSpeciation rate: 0.0001\nJob Type: 3\nMax time: 3600\n-deme sample: 1\nOutput directory: output\nDisp Rel Cost: 1\nTimes:  0.0\n"
     ]
    },
    {
     "name": "stderr",
     "output_type": "stream",
     "text": [
      "\rChecking folder existance...maps/island_density.tif exists!               \n"
     ]
    },
    {
     "name": "stderr",
     "output_type": "stream",
     "text": [
      "Importing maps/island_density.tif \n"
     ]
    },
    {
     "name": "stderr",
     "output_type": "stream",
     "text": [
      "No data value is: -99\n"
     ]
    },
    {
     "name": "stderr",
     "output_type": "stream",
     "text": [
      "Getting geo transform..."
     ]
    },
    {
     "name": "stderr",
     "output_type": "stream",
     "text": [
      "done.\n"
     ]
    },
    {
     "name": "stderr",
     "output_type": "stream",
     "text": [
      "Affine transform is 0, 1, 0, 0, 0, -1\n"
     ]
    },
    {
     "name": "stderr",
     "output_type": "stream",
     "text": [
      "done.\n"
     ]
    },
    {
     "name": "stderr",
     "output_type": "stream",
     "text": [
      "No data value is: -99\n"
     ]
    },
    {
     "name": "stderr",
     "output_type": "stream",
     "text": [
      "Getting geo transform..."
     ]
    },
    {
     "name": "stderr",
     "output_type": "stream",
     "text": [
      "done.\n"
     ]
    },
    {
     "name": "stderr",
     "output_type": "stream",
     "text": [
      "Affine transform is 0, 1, 0, 0, 0, -1\n"
     ]
    },
    {
     "name": "stderr",
     "output_type": "stream",
     "text": [
      "Using dispersal file.\n"
     ]
    },
    {
     "name": "stderr",
     "output_type": "stream",
     "text": [
      "Importing maps/dispersal_probabilities.tif \n"
     ]
    },
    {
     "name": "stderr",
     "output_type": "stream",
     "text": [
      "No data value is: -99\n"
     ]
    },
    {
     "name": "stderr",
     "output_type": "stream",
     "text": [
      "Getting geo transform..."
     ]
    },
    {
     "name": "stderr",
     "output_type": "stream",
     "text": [
      "done.\n"
     ]
    },
    {
     "name": "stderr",
     "output_type": "stream",
     "text": [
      "Affine transform is 0, 1, 0, 0, 0, -1\n"
     ]
    },
    {
     "name": "stderr",
     "output_type": "stream",
     "text": [
      "\rImporting maps/dispersal_probabilities.tif ....."
     ]
    },
    {
     "name": "stderr",
     "output_type": "stream",
     "text": [
      "\rImporting maps/dispersal_probabilities.tif .........."
     ]
    },
    {
     "name": "stderr",
     "output_type": "stream",
     "text": [
      "\rImporting maps/dispersal_probabilities.tif ..............."
     ]
    },
    {
     "name": "stderr",
     "output_type": "stream",
     "text": [
      "done.\n"
     ]
    },
    {
     "name": "stderr",
     "output_type": "stream",
     "text": [
      "Verifying dispersal setup...\n"
     ]
    },
    {
     "name": "stderr",
     "output_type": "stream",
     "text": [
      "Initial count is 100000\n"
     ]
    },
    {
     "name": "stderr",
     "output_type": "stream",
     "text": [
      "\rSetting up simulation...filling grid                           "
     ]
    },
    {
     "name": "stderr",
     "output_type": "stream",
     "text": [
      "\rSetting up simulation...done.                           \nNumber of individuals simulating: 100000\n"
     ]
    },
    {
     "name": "stderr",
     "output_type": "stream",
     "text": [
      "*************************************************\nBeginning simulations..."
     ]
    },
    {
     "name": "stderr",
     "output_type": "stream",
     "text": [
      "done.\n"
     ]
    },
    {
     "name": "stderr",
     "output_type": "stream",
     "text": [
      "Finalising data..."
     ]
    },
    {
     "name": "stderr",
     "output_type": "stream",
     "text": [
      "done.\n"
     ]
    },
    {
     "name": "stderr",
     "output_type": "stream",
     "text": [
      "Creating SQL database file...\n\tChecking for existing folders....\n"
     ]
    },
    {
     "name": "stderr",
     "output_type": "stream",
     "text": [
      "\tGenerating species list....\n"
     ]
    },
    {
     "name": "stderr",
     "output_type": "stream",
     "text": [
      "\tExecuting SQL commands....\n"
     ]
    },
    {
     "name": "stderr",
     "output_type": "stream",
     "text": [
      "No additional speciation rates to apply.\nSpeciation rate is: 0.0001.\nTime is: 0.\n"
     ]
    },
    {
     "name": "stderr",
     "output_type": "stream",
     "text": [
      "Applying speciation rate 0.0001 at time 0...\n"
     ]
    },
    {
     "name": "stderr",
     "output_type": "stream",
     "text": [
      "\tGenerating biodiversity...\n"
     ]
    },
    {
     "name": "stderr",
     "output_type": "stream",
     "text": [
      "\tCalculating coalescence tree..."
     ]
    },
    {
     "name": "stderr",
     "output_type": "stream",
     "text": [
      "\n\tAssigning species IDs...\n"
     ]
    },
    {
     "name": "stderr",
     "output_type": "stream",
     "text": [
      "\tCalculating species abundances...\n"
     ]
    },
    {
     "name": "stderr",
     "output_type": "stream",
     "text": [
      "\tNumber of species: 43\n"
     ]
    },
    {
     "name": "stderr",
     "output_type": "stream",
     "text": [
      "\tGenerating SPECIES_ABUNDANCES table...\n"
     ]
    },
    {
     "name": "stderr",
     "output_type": "stream",
     "text": [
      "\tWriting to output/data_3_1.db...\n"
     ]
    },
    {
     "name": "stderr",
     "output_type": "stream",
     "text": [
      "Total generations simulated (steps): 37860.4 (499572)\nSetup time was 0 minutes 0 seconds\nSimulation time was 0 hours 0 minutes 1 seconds\nFile output and species calculation time was 0 minutes 1 seconds\nSQL output time was 0 minutes 0 seconds\nTotal simulation and output time was 0 hours 0 minutes 2 seconds\n"
     ]
    }
   ],
   "source": [
    "from pycoalescence import Simulation\n",
    "sim = Simulation(logging_level=20)\n",
    "sim.set_simulation_parameters(seed=1, job_type=3, output_directory=\"output\", min_speciation_rate=0.0001)\n",
    "sim.set_map_files(sample_file=\"null\", fine_file=density_map, dispersal_map=dispersal_map)\n",
    "sim.run()"
   ]
  },
  {
   "cell_type": "markdown",
   "metadata": {},
   "source": [
    "## Analyse the simulations\n",
    "\n",
    "Apply additional speciation rates and obtain the species richness for each site.\n",
    "Additionally, calculate the proportion of similar species pairwise between each site.\n",
    "\n",
    "Here we generate a csv containing the island biodiversity metrics, such as the number of shared and unique species for each pair of islands."
   ]
  },
  {
   "cell_type": "code",
   "execution_count": 10,
   "metadata": {},
   "outputs": [],
   "source": [
    "from pycoalescence import CoalescenceTree\n",
    "coal_tree = CoalescenceTree(sim)\n",
    "coal_tree.set_speciation_parameters(speciation_rates=[0.0001, 0.001, 0.01], \n",
    "\t\t\t\t\t\t\t\t\trecord_fragments=os.path.join(\"output\", \"fragments.csv\"))\n",
    "coal_tree.apply()\n",
    "output=[]\n",
    "for ref in coal_tree.get_community_references():\n",
    "\tglobal_species = set(x[0] for x in coal_tree.get_species_abundances(reference=ref))\n",
    "\tglobal_species_richness = len(global_species)\n",
    "\tfragment_species = {}\n",
    "\tfragment_species_richness = {}\n",
    "\tspeciation_rate = coal_tree.get_community_parameters(ref)[\"speciation_rate\"]\n",
    "\toutput.append({\"fragment\" : \"whole\", \n",
    "\t\t\t\t\t  \"species_richness\": global_species_richness,\n",
    "\t\t\t\t\t  \"endemics\" : 0, \"speciation_rate\" : speciation_rate,\n",
    "\t\t\t\t   \"number_individuals\" : coal_tree.get_number_individuals(community_reference=ref)})\n",
    "\tfor fragment in coal_tree.get_fragment_list(ref):\n",
    "\t\tfragment_species[fragment] = set([x[0] for x in coal_tree.get_species_abundances(fragment=fragment, reference=ref)])\n",
    "\t\tfragment_species_richness[fragment] = len(fragment_species[fragment])\n",
    "\tfor fragment in coal_tree.get_fragment_list(ref):\n",
    "\t\text_species = set(itertools.chain(*[[x for x in val] for\n",
    "\t\t\t\t\t\t\t\t\t\t\tk, val in fragment_species.items() if k != fragment]))\n",
    "\t\tendemic_species = set([x for x in fragment_species[fragment] if x not in ext_species])\n",
    "\t\toutput.append({\"fragment\" : fragment, \n",
    "\t\t\t\t\t  \"species_richness\": fragment_species_richness[fragment],\n",
    "\t\t\t\t\t  \"endemics\" : len(endemic_species),\n",
    "\t\t\t\t\t  \"speciation_rate\" : speciation_rate,\n",
    "\t\t\t\t\t   \"number_individuals\" : coal_tree.get_number_individuals(fragment=fragment,\n",
    "\t\t\t\t\t\t\t\t\t\t\t\t\t\t\t\t\t\t\t   community_reference=ref)})\n",
    "output_df = pd.DataFrame(output)\n",
    "output_df.to_csv(os.path.join(\"results\", \"island_biodiversity.csv\"))"
   ]
  },
  {
   "cell_type": "code",
   "execution_count": null,
   "metadata": {},
   "outputs": [],
   "source": []
  }
 ],
 "metadata": {
  "kernelspec": {
   "display_name": "Python 2",
   "language": "python",
   "name": "python2"
  },
  "language_info": {
   "codemirror_mode": {
    "name": "ipython",
    "version": 2
   },
   "file_extension": ".py",
   "mimetype": "text/x-python",
   "name": "python",
   "nbconvert_exporter": "python",
   "pygments_lexer": "ipython2",
   "version": "2.7.6"
  }
 },
 "nbformat": 4,
 "nbformat_minor": 0
}
