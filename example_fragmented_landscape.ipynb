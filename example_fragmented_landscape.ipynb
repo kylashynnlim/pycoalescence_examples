{
 "cells": [
  {
   "cell_type": "markdown",
   "metadata": {},
   "source": [
    "# pycoalescence fragmented landscape example\n",
    "\n",
    "The process outlined here simulates a community of around 36000 individuals on a real landscape as it progresses towards a randomly-cleared landscape of around 4000 individuals over 100 generations. The community is sampled every 10 generations. The simulation is repeated 10 times and the community is generated for three different speciation rates.\n",
    "\n",
    "### Inputs\n",
    "\n",
    "- The following map files in the \"maps\" folder\n",
    "\t- \"fine_present.tif\"\n",
    "\t- \"coarse_present.tif\"\n",
    "\t- \"fine_historical.tif\"\n",
    "\t- \"coarse_historical.tif\"\n",
    "- A speciation rates of 0.0001 (the minimum), 0.0005 and 0.001\n",
    "- A dispersal sigma of 16\n",
    "- A deme size of 10\n",
    "\n",
    "### Outputs\n",
    "\n",
    "- 10 databases (one per simulation) in the \"output\" folder, containing the following features in the respective SQL table:\n",
    "\t- The simulation parameters (SIMULATION_PARAMETERS)\n",
    "\t- The community parameters (COMMUNITY_PARAMETERS)\n",
    "\t- The full coalescence tree (SPECIES_LIST)\n",
    "\t- The species abundances for each community (SPECIES_ABUNDANCES)\n",
    "- A csv containing the species richness at each time\n",
    "- A csv containing the species abundances 0, 50 and 100 generations before present"
   ]
  },
  {
   "cell_type": "code",
   "execution_count": 1,
   "metadata": {
    "collapsed": true
   },
   "outputs": [],
   "source": [
    "from pycoalescence import Simulation, CoalescenceTree\n",
    "import pandas as pd\n",
    "import os"
   ]
  },
  {
   "cell_type": "markdown",
   "metadata": {},
   "source": [
    "## Running the simulation and generating the communities\n",
    "\n",
    "The `Simulation` class performs the simulation. The `CoalescenceTree` class calculates the coalescence tree for each parameter set and generates the community."
   ]
  },
  {
   "cell_type": "code",
   "execution_count": 2,
   "metadata": {
    "collapsed": true
   },
   "outputs": [
    {
     "name": "stdout",
     "output_type": "stream",
     "text": [
      "Sim 1 complete.\n"
     ]
    },
    {
     "name": "stdout",
     "output_type": "stream",
     "text": [
      "Sim 2 complete.\n"
     ]
    },
    {
     "name": "stdout",
     "output_type": "stream",
     "text": [
      "Sim 3 complete.\n"
     ]
    },
    {
     "name": "stdout",
     "output_type": "stream",
     "text": [
      "Sim 4 complete.\n"
     ]
    },
    {
     "name": "stdout",
     "output_type": "stream",
     "text": [
      "Sim 5 complete.\n"
     ]
    },
    {
     "name": "stdout",
     "output_type": "stream",
     "text": [
      "Sim 6 complete.\n"
     ]
    },
    {
     "name": "stdout",
     "output_type": "stream",
     "text": [
      "Sim 7 complete.\n"
     ]
    },
    {
     "name": "stdout",
     "output_type": "stream",
     "text": [
      "Sim 8 complete.\n"
     ]
    },
    {
     "name": "stdout",
     "output_type": "stream",
     "text": [
      "Sim 9 complete.\n"
     ]
    },
    {
     "name": "stdout",
     "output_type": "stream",
     "text": [
      "Sim 10 complete.\n"
     ]
    }
   ],
   "source": [
    "# Run 10 repeat simulations, each with a different random number seed\n",
    "for seed in range(1, 11, 1):\n",
    "\t# Set up and run the simulation\n",
    "\tsim = Simulation(logging_level=30)\n",
    "\tsim.set_simulation_parameters(seed=seed, job_type=1, output_directory=\"output\",\n",
    "\t\t\t\t\t\t\t\t  min_speciation_rate=0.000001, sigma=16, deme=1)\n",
    "\tif not os.path.exists(os.path.join(\"output\", \"data_{}_{}.db\".format(1, seed))):\n",
    "\t\tsim.set_map_files(sample_file=\"null\", fine_file=os.path.join(\"maps\", \"fine_present.tif\"),\n",
    "\t\t\t\t\t\t  coarse_file=os.path.join(\"maps\", \"coarse_present.tif\"))\n",
    "\t\tsim.add_historical_map(fine_file=os.path.join(\"maps\", \"fine_historical.tif\"),\n",
    "\t\t\t\t\t\t\t   coarse_file=os.path.join(\"maps\", \"coarse_historical.tif\"), time=100, rate=1.0)\n",
    "\t\tsim.add_sample_time([x for x in range(0, 160, 10)])\n",
    "\t\t# This is the main time-consuming step\n",
    "\t\tsim.run()\n",
    "\tprint(\"Sim {} complete.\".format(seed))\n",
    "\t# Now generate the coalescence tree for each speciation rate and time\n",
    "\tcoal_tree = CoalescenceTree(sim)\n",
    "\tcoal_tree.set_speciation_parameters(speciation_rates=[0.000001, 0.000005, 0.00001],\n",
    "\t\t\t\t\t\t\t\t\ttimes=[float(x) for x in range(0, 160, 10)])\n",
    "\tcoal_tree.apply()\n",
    "\t# Calculate the species richness for each parameter and store it in a new table\n",
    "\tcoal_tree.calculate_richness()"
   ]
  },
  {
   "cell_type": "markdown",
   "metadata": {},
   "source": [
    "## Store the species richness at each time"
   ]
  },
  {
   "cell_type": "code",
   "execution_count": 3,
   "metadata": {},
   "outputs": [],
   "source": [
    "output = []\n",
    "for seed in range(1, 11, 1):\n",
    "\tcoal_tree = CoalescenceTree(os.path.join(\"output\", \"data_{}_{}.db\".format(1, seed)))\n",
    "\tfor ref in coal_tree.get_community_references():\n",
    "\t\ttime = coal_tree.get_community_parameters(ref)[\"time\"]\n",
    "\t\tsr = coal_tree.get_species_richness(ref)\n",
    "\t\tspec_rate = coal_tree.get_community_parameters(ref)[\"speciation_rate\"]\n",
    "\t\toutput.append({\"seed\" : seed, \"time\" : time, \"species_richness\" : sr, \"speciation_rate\" : spec_rate})\n",
    "output_df = pd.DataFrame(output)\n",
    "output_df.to_csv(os.path.join(\"results\", \"richness.csv\"))"
   ]
  },
  {
   "cell_type": "markdown",
   "metadata": {},
   "source": [
    "## Store the species abundances at select times\n",
    "\n",
    "Just store the time for 0, 50 and 100 generations before the present. "
   ]
  },
  {
   "cell_type": "code",
   "execution_count": 4,
   "metadata": {},
   "outputs": [],
   "source": [
    "output = []\n",
    "for seed in range(1, 11, 1):\n",
    "\tcoal_tree = CoalescenceTree(os.path.join(\"output\", \"data_{}_{}.db\".format(1, seed)))\n",
    "\tfor ref in coal_tree.get_community_references():\n",
    "\t\ttime = coal_tree.get_community_parameters(ref)[\"time\"]\n",
    "\t\tif time in [0, 50, 100]:\n",
    "\t\t\tspec_abun = coal_tree.get_species_abundances(reference=ref)\n",
    "\t\t\tspeciation_rate = coal_tree.get_community_parameters(ref)[\"speciation_rate\"]\n",
    "\t\t\tfor row in spec_abun:\n",
    "\t\t\t\toutput.append({\"time\" : time, \"species_id\" : row[0], \"abundance\" : row[1], \"seed\" : seed,\n",
    "\t\t\t\t\t\t\t   \"speciation_rate\" : speciation_rate})\n",
    "output_df = pd.DataFrame(output)\n",
    "output_df.to_csv(os.path.join(\"results\", \"species_abundances.csv\"))"
   ]
  },
  {
   "cell_type": "code",
   "execution_count": null,
   "metadata": {},
   "outputs": [],
   "source": []
  }
 ],
 "metadata": {
  "kernelspec": {
   "display_name": "Python 2",
   "language": "python",
   "name": "python2"
  },
  "language_info": {
   "codemirror_mode": {
    "name": "ipython",
    "version": 2
   },
   "file_extension": ".py",
   "mimetype": "text/x-python",
   "name": "python",
   "nbconvert_exporter": "python",
   "pygments_lexer": "ipython2",
   "version": "2.7.6"
  }
 },
 "nbformat": 4,
 "nbformat_minor": 0
}
