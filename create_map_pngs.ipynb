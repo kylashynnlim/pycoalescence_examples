{
 "cells": [
  {
   "cell_type": "markdown",
   "metadata": {},
   "source": [
    "## Display the map files and output to png files"
   ]
  },
  {
   "cell_type": "code",
   "execution_count": 1,
   "metadata": {},
   "outputs": [],
   "source": [
    "import os\n",
    "from PIL import Image # Install the pillow module for PIL\n",
    "from pycoalescence import Map\n",
    "import numpy as np\n",
    "import seaborn as sb\n",
    "import matplotlib.pyplot as plt"
   ]
  },
  {
   "cell_type": "code",
   "execution_count": 2,
   "metadata": {},
   "outputs": [],
   "source": [
    "# Define the input map folder and files\n",
    "map_folder = \"maps\"\n",
    "fine_present_file = \"fine_present\"\n",
    "fine_historical_file = \"fine_historical\"\n",
    "coarse_present_file = \"coarse_present\"\n",
    "coarse_historical_file = \"coarse_historical\"\n",
    "# Define output location\n",
    "output_folder = \"figures\"\n",
    "# Output colour for the habitat\n",
    "rgb1 = (0, 127, 16)\n",
    "# Output colour for the non-habitat\n",
    "rgb2 = (236, 236, 236)"
   ]
  },
  {
   "cell_type": "code",
   "execution_count": 3,
   "metadata": {},
   "outputs": [
    {
     "data": {
      "image/png": "[encoded data removed]",
      "text/plain": [
       "<Figure size 432x288 with 4 Axes>"
      ]
     },
     "metadata": {},
     "output_type": "display_data"
    }
   ],
   "source": [
    "%matplotlib inline\n",
    "fig, axs = plt.subplots(ncols=2, nrows=2)\n",
    "for i, file in enumerate([fine_present_file, coarse_present_file, fine_historical_file, coarse_historical_file]):\n",
    "    file_path = os.path.join(map_folder, \"{}.tif\".format(file))\n",
    "    m = Map(file_path)\n",
    "    m.open()\n",
    "    sb.heatmap(m.data, ax=axs[i%2][int(i/2)], cmap=\"Greens\",\n",
    "               cbar=False, xticklabels=False, yticklabels=False, square=True, vmax=1.2)\n",
    "    col_array = np.zeros((m.data.shape[0], m.data.shape[1], 3), 'uint8')\n",
    "    col_array[..., 0] = (m.data)*rgb1[0] + (1-m.data)*rgb2[0]\n",
    "    # np.full((m.data.shape[0], m.data.shape[1]),\n",
    "    #                             dtype='uint8', fill_value=rgb1[0]) #-(rgb1[0]-m.data*rgb2[0])\n",
    "    col_array[..., 1] = (m.data)*rgb1[1] + (1-m.data)*rgb2[1]\n",
    "    col_array[..., 2] = (m.data)*rgb1[2] + (1-m.data)*rgb2[2]\n",
    "    im = Image.fromarray(col_array)\n",
    "    im.save(os.path.join(output_folder, \"{}.png\".format(file)))\n",
    "plt.show()"
   ]
  },
  {
   "cell_type": "code",
   "execution_count": null,
   "metadata": {},
   "outputs": [],
   "source": []
  }
 ],
 "metadata": {
  "kernelspec": {
   "display_name": "Python 3",
   "language": "python",
   "name": "python3"
  },
  "language_info": {
   "codemirror_mode": {
    "name": "ipython",
    "version": 3
   },
   "file_extension": ".py",
   "mimetype": "text/x-python",
   "name": "python",
   "nbconvert_exporter": "python",
   "pygments_lexer": "ipython3",
   "version": "3.7.3"
  }
 },
 "nbformat": 4,
 "nbformat_minor": 2
}
